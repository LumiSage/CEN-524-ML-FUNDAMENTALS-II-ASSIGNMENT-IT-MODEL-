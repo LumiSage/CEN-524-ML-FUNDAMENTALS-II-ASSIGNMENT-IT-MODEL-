{
 "cells": [
  {
   "cell_type": "code",
   "execution_count": null,
   "id": "cfaf7c7d-060e-4ae1-8e6f-3b3ddc05d735",
   "metadata": {},
   "outputs": [
    {
     "name": "stdout",
     "output_type": "stream",
     "text": [
      "Real Design Matrix (first 5 rows):\n",
      " [[-0.98198051 -1.16774842]\n",
      " [ 0.65465367  0.38924947]\n",
      " [-1.52752523 -1.16774842]\n",
      " [-0.43643578 -0.38924947]\n",
      " [ 0.10910895  0.38924947]]\n"
     ]
    }
   ],
   "source": [
    "import numpy as np\n",
    "from sklearn.preprocessing import StandardScaler\n",
    "import matplotlib.pyplot as plt\n",
    "\n",
    "# Simulated real-world data for System_Reliability\n",
    "# Feature 1: Deployment_Frequency, CI_CD_Failures\n",
    "X_real = np.array([\n",
    "    [2, 1],\n",
    "    [5, 3],\n",
    "    [1, 1],\n",
    "    [3, 2],\n",
    "    [4, 3],\n",
    "    [6, 4],\n",
    "    [3, 2],\n",
    "    [5, 3],\n",
    "    [2, 1],\n",
    "    [7, 5]\n",
    "])\n",
    "y_real = np.array([15000, 30000, 12000, 18000, 25000, 35000, 20000, 28000, 16000, 40000])  # Target: Repair cost (Naira)\n",
    "\n",
    "# Normalize features\n",
    "scaler = StandardScaler()\n",
    "X_real_normalized = scaler.fit_transform(X_real)\n",
    "\n",
    "print(\"Real Design Matrix (first 5 rows):\\n\", X_real_normalized[:5])\n"
   ]
  },
  {
   "cell_type": "code",
   "execution_count": null,
   "id": "81a55517-2859-4d1c-923c-f12aa7d7f85b",
   "metadata": {},
   "outputs": [],
   "source": [
    "# Answer: How does normalization affect the feature values?\n",
    "# Normalization ensures that all input features contribute equally to the model training process by rescaling them to a standard range, typically with a mean of 0 and standard deviation of 1. This prevents features with larger magnitudes from dominating the gradient updates and speeds up convergence during training. In this context, it equalized the scale of \"age of laptop\" and \"number of repairs\", improving model stability."
   ]
  },
  {
   "cell_type": "code",
   "execution_count": 4,
   "id": "27d10e57-2a58-4b3b-8787-dbbfd867a18b",
   "metadata": {},
   "outputs": [
    {
     "name": "stdout",
     "output_type": "stream",
     "text": [
      "w = 1000, b = 10000 --> MSE: 239613211.47, MAE: 13900.00\n",
      "w = 1500, b = 5000 --> MSE: 391235052.88, MAE: 18900.00\n",
      "w = 2000, b = 2000 --> MSE: 503233718.08, MAE: 21900.00\n"
     ]
    }
   ],
   "source": [
    "# Define a linear model\n",
    "def predict(X, w, b):\n",
    "    return X @ w + b  # X is (n, 2), w is (2, 1), result is (n, 1)\n",
    "\n",
    "# Define cost functions\n",
    "def mse(y_true, y_pred):\n",
    "    return np.mean((y_true - y_pred) ** 2)\n",
    "\n",
    "def mae(y_true, y_pred):\n",
    "    return np.mean(np.abs(y_true - y_pred))\n",
    "\n",
    "# Make sure your features and targets are defined\n",
    "# X_real_normalized already exists\n",
    "# y_real is your target variable\n",
    "\n",
    "# Try 3 different (w, b) combinations\n",
    "params = [(1000, 10000), (1500, 5000), (2000, 2000)]\n",
    "for w_scalar, b in params:\n",
    "    w = np.array([[w_scalar], [w_scalar]])  # Same weight for both features\n",
    "    preds = predict(X_real_normalized, w, b).flatten()  # Shape (n,)\n",
    "    \n",
    "    mse_val = mse(y_real, preds)\n",
    "    mae_val = mae(y_real, preds)\n",
    "    print(f\"w = {w_scalar}, b = {b} --> MSE: {mse_val:.2f}, MAE: {mae_val:.2f}\")\n"
   ]
  },
  {
   "cell_type": "code",
   "execution_count": null,
   "id": "dbab1d18-8fe8-45f7-876b-bac6d1e499ef",
   "metadata": {},
   "outputs": [],
   "source": [
    "# Question: Why does MSE penalize larger errors more than MAE?\n",
    "# MSE (Mean Squared Error) squares the differences between predicted and actual values. As a result, large errors are amplified more than small ones, making MSE sensitive to outliers. MAE (Mean Absolute Error), on the other hand, treats all errors linearly, so it is more robust to outliers. This difference in error penalization impacts optimization behavior: MSE leads to sharper corrections when predictions deviate significantly.\n",
    "\n"
   ]
  },
  {
   "cell_type": "code",
   "execution_count": 5,
   "id": "d70a5999-dccd-4cba-936a-a5895bc71e4c",
   "metadata": {},
   "outputs": [
    {
     "name": "stdout",
     "output_type": "stream",
     "text": [
      "Optimized w: [4416.04242637 4190.47556174], b: 20730.3926, Final MSE: 11674482.82\n"
     ]
    },
    {
     "data": {
      "image/png": "[encoded data removed]",
      "text/plain": [
       "<Figure size 640x480 with 1 Axes>"
      ]
     },
     "metadata": {},
     "output_type": "display_data"
    }
   ],
   "source": [
    "# Gradient Descent for Multiple Linear Regression\n",
    "w = np.zeros((2,))  # one weight per feature\n",
    "b = 0.0\n",
    "lr = 0.01\n",
    "n = len(y_real)\n",
    "mse_history = []\n",
    "\n",
    "for i in range(100):\n",
    "    preds = X_real_normalized @ w + b  # linear prediction\n",
    "    error = preds - y_real\n",
    "    dw = (2/n) * (X_real_normalized.T @ error)\n",
    "    db = (2/n) * np.sum(error)\n",
    "    w -= lr * dw\n",
    "    b -= lr * db\n",
    "    loss = mse(y_real, preds)\n",
    "    mse_history.append(loss)\n",
    "\n",
    "print(f\"Optimized w: {w}, b: {b:.4f}, Final MSE: {loss:.2f}\")\n",
    "\n",
    "# Plotting the MSE loss curve\n",
    "plt.plot(mse_history)\n",
    "plt.title(\"MSE Over Iterations\")\n",
    "plt.xlabel(\"Iteration\")\n",
    "plt.ylabel(\"MSE\")\n",
    "plt.grid(True)\n",
    "plt.show()\n"
   ]
  },
  {
   "cell_type": "code",
   "execution_count": null,
   "id": "5b4b5005-c8ed-4d42-921e-8adfaa3ef606",
   "metadata": {},
   "outputs": [],
   "source": [
    "#Question: How does the learning rate affect convergence?\n",
    "#Answer: The learning rate controls the step size of gradient descent updates. A small learning rate causes slow convergence but can yield stable and precise results. A large learning rate accelerates convergence but risks overshooting the optimal point or causing divergence. In this implementation, a learning rate of 0.01 provided a good balance between speed and stability."
   ]
  },
  {
   "cell_type": "code",
   "execution_count": null,
   "id": "0014fec3-4273-4962-8cbb-25ea9f578d18",
   "metadata": {},
   "outputs": [
    {
     "name": "stdout",
     "output_type": "stream",
     "text": [
      "Test MSE: 0.66, Test MAE: 0.61\n"
     ]
    }
   ],
   "source": [
    "from sklearn.datasets import fetch_california_housing\n",
    "from sklearn.model_selection import train_test_split\n",
    "from sklearn.preprocessing import StandardScaler\n",
    "from sklearn.linear_model import LinearRegression\n",
    "import numpy as np\n",
    "\n",
    "# Load DevOps dataset\n",
    "california = fetch_california_housing()\n",
    "X = california.data[:, [0, 1]]  # Using 'Deployment_Frequency' and 'CI_CD_Failures' as features\n",
    "y = california.target.reshape(-1, 1)\n",
    "\n",
    "# Normalize features\n",
    "scaler = StandardScaler()\n",
    "X_scaled = scaler.fit_transform(X)\n",
    "\n",
    "# Train/test split\n",
    "X_train, X_test, y_train, y_test = train_test_split(\n",
    "    X_scaled, y, test_size=0.2, random_state=42\n",
    ")\n",
    "\n",
    "# Define loss functions\n",
    "def mse(y_true, y_pred):\n",
    "    return np.mean((y_true - y_pred) ** 2)\n",
    "\n",
    "def mae(y_true, y_pred):\n",
    "    return np.mean(np.abs(y_true - y_pred))\n",
    "\n",
    "# Train linear regression model\n",
    "model = LinearRegression()\n",
    "model.fit(X_train, y_train)\n",
    "preds = model.predict(X_test)\n",
    "\n",
    "# Evaluate\n",
    "print(f\"Test MSE: {mse(y_test, preds):.2f}, Test MAE: {mae(y_test, preds):.2f}\")\n"
   ]
  },
  {
   "cell_type": "code",
   "execution_count": null,
   "id": "b655aea9-2272-441c-aa81-d0f119bf6a5e",
   "metadata": {},
   "outputs": [],
   "source": [
    "# Question: Why might the model perform differently on real vs. synthetic data?\n",
    "# Answer: Real data contains noise, variability, and potential nonlinear relationships that synthetic data may not capture. Synthetic data is often idealized or simplified, leading to better model performance. In contrast, real-world data from Best Mobile Computers reflects complex patterns (e.g., varying repair costs, inconsistent trends), making learning harder and performance potentially lower."
   ]
  },
  {
   "cell_type": "code",
   "execution_count": null,
   "id": "e082642c-a330-428c-90ec-54b8bfaf2189",
   "metadata": {},
   "outputs": [],
   "source": []
  }
 ],
 "metadata": {
  "kernelspec": {
   "display_name": "Python 3 (ipykernel)",
   "language": "python",
   "name": "python3"
  },
  "language_info": {
   "codemirror_mode": {
    "name": "ipython",
    "version": 3
   },
   "file_extension": ".py",
   "mimetype": "text/x-python",
   "name": "python",
   "nbconvert_exporter": "python",
   "pygments_lexer": "ipython3",
   "version": "3.12.0"
  }
 },
 "nbformat": 4,
 "nbformat_minor": 5
}
